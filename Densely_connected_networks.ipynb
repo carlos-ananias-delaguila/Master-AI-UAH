{
  "nbformat": 4,
  "nbformat_minor": 0,
  "metadata": {
    "kernelspec": {
      "display_name": "Python 3",
      "language": "python",
      "name": "python3"
    },
    "language_info": {
      "codemirror_mode": {
        "name": "ipython",
        "version": 3
      },
      "file_extension": ".py",
      "mimetype": "text/x-python",
      "name": "python",
      "nbconvert_exporter": "python",
      "pygments_lexer": "ipython3",
      "version": "3.6.3"
    },
    "colab": {
      "name": "Densely-connected-networks.ipynb",
      "provenance": [],
      "collapsed_sections": [],
      "include_colab_link": true
    }
  },
  "cells": [
    {
      "cell_type": "markdown",
      "metadata": {
        "id": "view-in-github",
        "colab_type": "text"
      },
      "source": [
        "<a href=\"https://colab.research.google.com/github/carlos-ananias-delaguila/Master-AI-UAH/blob/main/Densely_connected_networks.ipynb\" target=\"_parent\"><img src=\"https://colab.research.google.com/assets/colab-badge.svg\" alt=\"Open In Colab\"/></a>"
      ]
    },
    {
      "cell_type": "markdown",
      "metadata": {
        "id": "bsd4yUE5mU-5"
      },
      "source": [
        "# Chapter 2:  Densely Connected Networks\n"
      ]
    },
    {
      "cell_type": "code",
      "metadata": {
        "scrolled": true,
        "id": "OWB8xGHwmU-7",
        "colab": {
          "base_uri": "https://localhost:8080/",
          "height": 35
        },
        "outputId": "f2f0689d-429d-4061-e956-5a6c754c9554"
      },
      "source": [
        "'''\n",
        "W1 assignment \n",
        "\n",
        "First of all, we start importing the Keras module and checking its version\n",
        "''' \n",
        "import keras\n",
        "keras.__version__"
      ],
      "execution_count": null,
      "outputs": [
        {
          "output_type": "execute_result",
          "data": {
            "application/vnd.google.colaboratory.intrinsic+json": {
              "type": "string"
            },
            "text/plain": [
              "'2.6.0'"
            ]
          },
          "metadata": {},
          "execution_count": 1
        }
      ]
    },
    {
      "cell_type": "markdown",
      "metadata": {
        "id": "iaQSMBOLmU-8"
      },
      "source": [
        "Preloading the data in Keras"
      ]
    },
    {
      "cell_type": "code",
      "metadata": {
        "id": "hO6aVI7WmU-9",
        "colab": {
          "base_uri": "https://localhost:8080/"
        },
        "outputId": "97effde8-6bef-4c1b-c97d-d40bc6c3e669"
      },
      "source": [
        "'''\n",
        "W1 assignment\n",
        "\n",
        "Then we import the dataset we are going to use to train our model. \n",
        "In this case, we will use the MNIST handwritten numbers' dataset.\n",
        "\n",
        "After that, we load the dataset and populate both training and test sets \n",
        "using the following variables:\n",
        "  * x_train - independant variables training set\n",
        "  * y_train - dependant variable (labels) training set\n",
        "  * x_test - independant variables testing set\n",
        "  * y_test - dependant variable (labels) testing set\n",
        "\n",
        "According to the official \n",
        "Keras documentation (https://keras.io/api/datasets/mnist/) \n",
        "the load_data function returns a tuple of NumPy arrays: \n",
        "(x_train, y_train), (x_test, y_test).\n",
        "\n",
        "These variables have the following composition:\n",
        "  * x_train: uint8 NumPy array of grayscale image data with \n",
        "           shapes (60000, 28, 28), containing the training data. \n",
        "           Pixel values range from 0 to 255\n",
        "  * y_train: uint8 NumPy array of digit labels (integers in range 0-9) with \n",
        "           shape (60000,) for the training data.\n",
        "  * x_test: uint8 NumPy array of grayscale image data \n",
        "            with shapes (10000, 28, 28), containing the test data. Pixel values \n",
        "            range from 0 to 255.\n",
        "  * y_test: uint8 NumPy array of digit labels (integers in range 0-9) \n",
        "            with shape (10000,) for the test data.\n",
        "\n",
        "'''\n",
        "from keras.datasets import mnist\n",
        "\n",
        "# obtenemos los datos para train y test \n",
        "(x_train, y_train), (x_test, y_test) = mnist.load_data()"
      ],
      "execution_count": null,
      "outputs": [
        {
          "output_type": "stream",
          "name": "stdout",
          "text": [
            "Downloading data from https://storage.googleapis.com/tensorflow/tf-keras-datasets/mnist.npz\n",
            "11493376/11490434 [==============================] - 0s 0us/step\n",
            "11501568/11490434 [==============================] - 0s 0us/step\n"
          ]
        }
      ]
    },
    {
      "cell_type": "code",
      "metadata": {
        "id": "A-pZeP75mU--",
        "colab": {
          "base_uri": "https://localhost:8080/"
        },
        "outputId": "0001d076-4641-4622-81c4-e46da166b6a1"
      },
      "source": [
        "'''\n",
        "W1 assignment\n",
        "\n",
        "Print the number of array dimensions of the training data.\n",
        "In our case it is 3 (Number of samples x Width x Height )\n",
        "'''\n",
        "print(x_train.ndim) "
      ],
      "execution_count": null,
      "outputs": [
        {
          "output_type": "stream",
          "name": "stdout",
          "text": [
            "3\n"
          ]
        }
      ]
    },
    {
      "cell_type": "code",
      "metadata": {
        "id": "_P7Ps1IRmU-_",
        "colab": {
          "base_uri": "https://localhost:8080/"
        },
        "outputId": "3556952f-d10d-4883-b5b8-5f94a3062f29"
      },
      "source": [
        "'''\n",
        "W1 assignment\n",
        "\n",
        "In order to check our training data shape, we print it using the shape attribute\n",
        "of Numpy arrays.\n",
        "\n",
        "That way we can check that our training data is composed of 60000 samples with\n",
        "a resolution of 28 x 28 pixels.\n",
        "'''\n",
        "print(x_train.shape)"
      ],
      "execution_count": null,
      "outputs": [
        {
          "output_type": "stream",
          "name": "stdout",
          "text": [
            "(60000, 28, 28)\n"
          ]
        }
      ]
    },
    {
      "cell_type": "code",
      "metadata": {
        "id": "eeWIqSF6mU_A",
        "colab": {
          "base_uri": "https://localhost:8080/"
        },
        "outputId": "7ae9df5d-114c-4dbe-e88b-b73b430391d8"
      },
      "source": [
        "'''\n",
        "W1 assignment\n",
        "\n",
        "As mentioned, our training data type is unsigned int 8.\n",
        "'''\n",
        "print(x_train.dtype)"
      ],
      "execution_count": null,
      "outputs": [
        {
          "output_type": "stream",
          "name": "stdout",
          "text": [
            "uint8\n"
          ]
        }
      ]
    },
    {
      "cell_type": "code",
      "metadata": {
        "id": "GBERWEqQmU_A",
        "colab": {
          "base_uri": "https://localhost:8080/"
        },
        "outputId": "b9f28380-1418-4987-9875-fc835e9fa22f"
      },
      "source": [
        "'''\n",
        "W1 assignment\n",
        "\n",
        "We also check that our labels set has the correct size (60000 in our case).\n",
        "'''\n",
        "len (y_train)"
      ],
      "execution_count": null,
      "outputs": [
        {
          "output_type": "execute_result",
          "data": {
            "text/plain": [
              "60000"
            ]
          },
          "metadata": {},
          "execution_count": 6
        }
      ]
    },
    {
      "cell_type": "code",
      "metadata": {
        "id": "XFI8k5_emU_B",
        "colab": {
          "base_uri": "https://localhost:8080/",
          "height": 282
        },
        "outputId": "1992622c-4112-478c-9c3c-3ccb6cfa88cd"
      },
      "source": [
        "'''\n",
        "W1 assignment\n",
        "\n",
        "Using the imshow function of the pyplot submodule of matplotlib\n",
        "we display the training data contained in the 9th position, which corresponds\n",
        "to the handwritten image of a number 1.\n",
        "\n",
        "We also print the label assigned wich is, obviously, \"1\".\n",
        "'''\n",
        "import matplotlib.pyplot as plt\n",
        "plt.imshow(x_train[8], cmap=plt.cm.binary)\n",
        "print(y_train[8])"
      ],
      "execution_count": null,
      "outputs": [
        {
          "output_type": "stream",
          "name": "stdout",
          "text": [
            "1\n"
          ]
        },
        {
          "output_type": "display_data",
          "data": {
            "image/png": "[encoded data removed]",
            "text/plain": [
              "<Figure size 432x288 with 1 Axes>"
            ]
          },
          "metadata": {
            "needs_background": "light"
          }
        }
      ]
    },
    {
      "cell_type": "code",
      "metadata": {
        "id": "eVjBFUHmmU_C",
        "colab": {
          "base_uri": "https://localhost:8080/"
        },
        "outputId": "5ae7dd1b-5389-45c0-f11d-5df2339fc895"
      },
      "source": [
        "'''\n",
        "W1 assignment\n",
        "\n",
        "In this cell we import the Numpy library in order to print the sample image\n",
        "we used earlier but in a 'numeric' format.\n",
        "\n",
        "As seen, the sample is mostly composed of 0s except for the central part,\n",
        "where the grayscale values of each pixel (0-255) is shown.\n",
        "'''\n",
        "import numpy\n",
        "from numpy import linalg\n",
        "numpy.set_printoptions(precision=2, suppress=True, linewidth=120)\n",
        "print(numpy.matrix(x_train[8]))"
      ],
      "execution_count": null,
      "outputs": [
        {
          "output_type": "stream",
          "name": "stdout",
          "text": [
            "[[  0   0   0   0   0   0   0   0   0   0   0   0   0   0   0   0   0   0   0   0   0   0   0   0   0   0   0   0]\n",
            " [  0   0   0   0   0   0   0   0   0   0   0   0   0   0   0   0   0   0   0   0   0   0   0   0   0   0   0   0]\n",
            " [  0   0   0   0   0   0   0   0   0   0   0   0   0   0   0   0   0   0   0   0   0   0   0   0   0   0   0   0]\n",
            " [  0   0   0   0   0   0   0   0   0   0   0   0   0   0   0   0   0   0   0   0   0   0   0   0   0   0   0   0]\n",
            " [  0   0   0   0   0   0   0   0   0   0   0   0   0   0   0   0   0   0   0   0   0   0   0   0   0   0   0   0]\n",
            " [  0   0   0   0   0   0   0   0   0   0   0   0   5  63 197   0   0   0   0   0   0   0   0   0   0   0   0   0]\n",
            " [  0   0   0   0   0   0   0   0   0   0   0   0  20 254 230  24   0   0   0   0   0   0   0   0   0   0   0   0]\n",
            " [  0   0   0   0   0   0   0   0   0   0   0   0  20 254 254  48   0   0   0   0   0   0   0   0   0   0   0   0]\n",
            " [  0   0   0   0   0   0   0   0   0   0   0   0  20 254 255  48   0   0   0   0   0   0   0   0   0   0   0   0]\n",
            " [  0   0   0   0   0   0   0   0   0   0   0   0  20 254 254  57   0   0   0   0   0   0   0   0   0   0   0   0]\n",
            " [  0   0   0   0   0   0   0   0   0   0   0   0  20 254 254 108   0   0   0   0   0   0   0   0   0   0   0   0]\n",
            " [  0   0   0   0   0   0   0   0   0   0   0   0  16 239 254 143   0   0   0   0   0   0   0   0   0   0   0   0]\n",
            " [  0   0   0   0   0   0   0   0   0   0   0   0   0 178 254 143   0   0   0   0   0   0   0   0   0   0   0   0]\n",
            " [  0   0   0   0   0   0   0   0   0   0   0   0   0 178 254 143   0   0   0   0   0   0   0   0   0   0   0   0]\n",
            " [  0   0   0   0   0   0   0   0   0   0   0   0   0 178 254 162   0   0   0   0   0   0   0   0   0   0   0   0]\n",
            " [  0   0   0   0   0   0   0   0   0   0   0   0   0 178 254 240   0   0   0   0   0   0   0   0   0   0   0   0]\n",
            " [  0   0   0   0   0   0   0   0   0   0   0   0   0 113 254 240   0   0   0   0   0   0   0   0   0   0   0   0]\n",
            " [  0   0   0   0   0   0   0   0   0   0   0   0   0  83 254 245  31   0   0   0   0   0   0   0   0   0   0   0]\n",
            " [  0   0   0   0   0   0   0   0   0   0   0   0   0  79 254 246  38   0   0   0   0   0   0   0   0   0   0   0]\n",
            " [  0   0   0   0   0   0   0   0   0   0   0   0   0   0 214 254 150   0   0   0   0   0   0   0   0   0   0   0]\n",
            " [  0   0   0   0   0   0   0   0   0   0   0   0   0   0 144 241   8   0   0   0   0   0   0   0   0   0   0   0]\n",
            " [  0   0   0   0   0   0   0   0   0   0   0   0   0   0 144 240   2   0   0   0   0   0   0   0   0   0   0   0]\n",
            " [  0   0   0   0   0   0   0   0   0   0   0   0   0   0 144 254  82   0   0   0   0   0   0   0   0   0   0   0]\n",
            " [  0   0   0   0   0   0   0   0   0   0   0   0   0   0 230 247  40   0   0   0   0   0   0   0   0   0   0   0]\n",
            " [  0   0   0   0   0   0   0   0   0   0   0   0   0   0 168 209  31   0   0   0   0   0   0   0   0   0   0   0]\n",
            " [  0   0   0   0   0   0   0   0   0   0   0   0   0   0   0   0   0   0   0   0   0   0   0   0   0   0   0   0]\n",
            " [  0   0   0   0   0   0   0   0   0   0   0   0   0   0   0   0   0   0   0   0   0   0   0   0   0   0   0   0]\n",
            " [  0   0   0   0   0   0   0   0   0   0   0   0   0   0   0   0   0   0   0   0   0   0   0   0   0   0   0   0]]\n"
          ]
        }
      ]
    },
    {
      "cell_type": "code",
      "metadata": {
        "id": "wEh_BxPpmU_C",
        "colab": {
          "base_uri": "https://localhost:8080/",
          "height": 282
        },
        "outputId": "d6dfddea-5a61-486b-b1ad-ef243869c442"
      },
      "source": [
        "'''\n",
        "W1 assignment\n",
        "\n",
        "Another example of image and label printing. In this case, it shows the image\n",
        "of a number 4 and its corresponding label.\n",
        "'''\n",
        "plt.imshow(x_train[9], cmap=plt.cm.binary)\n",
        "print(y_train[9])"
      ],
      "execution_count": null,
      "outputs": [
        {
          "output_type": "stream",
          "name": "stdout",
          "text": [
            "4\n"
          ]
        },
        {
          "output_type": "display_data",
          "data": {
            "image/png": "[encoded data removed]",
            "text/plain": [
              "<Figure size 432x288 with 1 Axes>"
            ]
          },
          "metadata": {
            "needs_background": "light"
          }
        }
      ]
    },
    {
      "cell_type": "code",
      "metadata": {
        "id": "UBnYzcDDmU_D",
        "colab": {
          "base_uri": "https://localhost:8080/",
          "height": 282
        },
        "outputId": "9a1c8578-a56b-475c-88aa-30c847bb2f59"
      },
      "source": [
        "'''\n",
        "W1 assignment\n",
        "\n",
        "Another example of image and label printing. In this case, it shows the image\n",
        "of a number 3 and its corresponding label.\n",
        "'''\n",
        "plt.imshow(x_train[10], cmap=plt.cm.binary)\n",
        "print(y_train[10])"
      ],
      "execution_count": null,
      "outputs": [
        {
          "output_type": "stream",
          "name": "stdout",
          "text": [
            "3\n"
          ]
        },
        {
          "output_type": "display_data",
          "data": {
            "image/png": "[encoded data removed]",
            "text/plain": [
              "<Figure size 432x288 with 1 Axes>"
            ]
          },
          "metadata": {
            "needs_background": "light"
          }
        }
      ]
    },
    {
      "cell_type": "code",
      "metadata": {
        "id": "y44mIl77mU_E",
        "colab": {
          "base_uri": "https://localhost:8080/",
          "height": 282
        },
        "outputId": "c37c56c7-afe2-423c-ea3a-a0ea6e425ad1"
      },
      "source": [
        "'''\n",
        "W1 assignment\n",
        "\n",
        "Another example of image and label printing. In this case, it shows the image\n",
        "of a number 6 and its corresponding label.\n",
        "'''\n",
        "plt.imshow(x_test[11], cmap=plt.cm.binary)\n",
        "print(y_test[11])"
      ],
      "execution_count": null,
      "outputs": [
        {
          "output_type": "stream",
          "name": "stdout",
          "text": [
            "6\n"
          ]
        },
        {
          "output_type": "display_data",
          "data": {
            "image/png": "[encoded data removed]",
            "text/plain": [
              "<Figure size 432x288 with 1 Axes>"
            ]
          },
          "metadata": {
            "needs_background": "light"
          }
        }
      ]
    },
    {
      "cell_type": "code",
      "metadata": {
        "id": "L0Fd6IEUmU_E"
      },
      "source": [
        "'''\n",
        "W1 assignment\n",
        "\n",
        "Ir order to converge faster, it is a best practice to normalize the data\n",
        "contained in our training and testing samples.\n",
        "\n",
        "Since we are going to normalize dividing each number by 255 so we have values\n",
        "in the range (0, 1), it is first necessary to convert our sets to float.\n",
        "\n",
        "After that we apply normalization dividing by 255, as mentioned.\n",
        "'''\n",
        "x_train = x_train.astype('float32')\n",
        "x_test = x_test.astype('float32')\n",
        "\n",
        "x_train /= 255\n",
        "x_test /= 255\n"
      ],
      "execution_count": null,
      "outputs": []
    },
    {
      "cell_type": "code",
      "metadata": {
        "id": "L1WsmehmmU_F",
        "colab": {
          "base_uri": "https://localhost:8080/"
        },
        "outputId": "f29f7091-3224-4a71-d0c9-37ee4ff735d0"
      },
      "source": [
        "'''\n",
        "W1 assignment\n",
        "\n",
        "Printing our numerical matrix again reveals the new type of values we\n",
        "have in our samples.\n",
        "\n",
        "In this case, as before, it depicts the number 1, but the grayscale values are\n",
        "now normalized to the (0, 1) interval.\n",
        "'''\n",
        "print(numpy.matrix(x_train[8]))"
      ],
      "execution_count": null,
      "outputs": [
        {
          "output_type": "stream",
          "name": "stdout",
          "text": [
            "[[0.   0.   0.   0.   0.   0.   0.   0.   0.   0.   0.   0.   0.   0.   0.   0.   0.   0.   0.   0.   0.   0.   0.\n",
            "  0.   0.   0.   0.   0.  ]\n",
            " [0.   0.   0.   0.   0.   0.   0.   0.   0.   0.   0.   0.   0.   0.   0.   0.   0.   0.   0.   0.   0.   0.   0.\n",
            "  0.   0.   0.   0.   0.  ]\n",
            " [0.   0.   0.   0.   0.   0.   0.   0.   0.   0.   0.   0.   0.   0.   0.   0.   0.   0.   0.   0.   0.   0.   0.\n",
            "  0.   0.   0.   0.   0.  ]\n",
            " [0.   0.   0.   0.   0.   0.   0.   0.   0.   0.   0.   0.   0.   0.   0.   0.   0.   0.   0.   0.   0.   0.   0.\n",
            "  0.   0.   0.   0.   0.  ]\n",
            " [0.   0.   0.   0.   0.   0.   0.   0.   0.   0.   0.   0.   0.   0.   0.   0.   0.   0.   0.   0.   0.   0.   0.\n",
            "  0.   0.   0.   0.   0.  ]\n",
            " [0.   0.   0.   0.   0.   0.   0.   0.   0.   0.   0.   0.   0.02 0.25 0.77 0.   0.   0.   0.   0.   0.   0.   0.\n",
            "  0.   0.   0.   0.   0.  ]\n",
            " [0.   0.   0.   0.   0.   0.   0.   0.   0.   0.   0.   0.   0.08 1.   0.9  0.09 0.   0.   0.   0.   0.   0.   0.\n",
            "  0.   0.   0.   0.   0.  ]\n",
            " [0.   0.   0.   0.   0.   0.   0.   0.   0.   0.   0.   0.   0.08 1.   1.   0.19 0.   0.   0.   0.   0.   0.   0.\n",
            "  0.   0.   0.   0.   0.  ]\n",
            " [0.   0.   0.   0.   0.   0.   0.   0.   0.   0.   0.   0.   0.08 1.   1.   0.19 0.   0.   0.   0.   0.   0.   0.\n",
            "  0.   0.   0.   0.   0.  ]\n",
            " [0.   0.   0.   0.   0.   0.   0.   0.   0.   0.   0.   0.   0.08 1.   1.   0.22 0.   0.   0.   0.   0.   0.   0.\n",
            "  0.   0.   0.   0.   0.  ]\n",
            " [0.   0.   0.   0.   0.   0.   0.   0.   0.   0.   0.   0.   0.08 1.   1.   0.42 0.   0.   0.   0.   0.   0.   0.\n",
            "  0.   0.   0.   0.   0.  ]\n",
            " [0.   0.   0.   0.   0.   0.   0.   0.   0.   0.   0.   0.   0.06 0.94 1.   0.56 0.   0.   0.   0.   0.   0.   0.\n",
            "  0.   0.   0.   0.   0.  ]\n",
            " [0.   0.   0.   0.   0.   0.   0.   0.   0.   0.   0.   0.   0.   0.7  1.   0.56 0.   0.   0.   0.   0.   0.   0.\n",
            "  0.   0.   0.   0.   0.  ]\n",
            " [0.   0.   0.   0.   0.   0.   0.   0.   0.   0.   0.   0.   0.   0.7  1.   0.56 0.   0.   0.   0.   0.   0.   0.\n",
            "  0.   0.   0.   0.   0.  ]\n",
            " [0.   0.   0.   0.   0.   0.   0.   0.   0.   0.   0.   0.   0.   0.7  1.   0.64 0.   0.   0.   0.   0.   0.   0.\n",
            "  0.   0.   0.   0.   0.  ]\n",
            " [0.   0.   0.   0.   0.   0.   0.   0.   0.   0.   0.   0.   0.   0.7  1.   0.94 0.   0.   0.   0.   0.   0.   0.\n",
            "  0.   0.   0.   0.   0.  ]\n",
            " [0.   0.   0.   0.   0.   0.   0.   0.   0.   0.   0.   0.   0.   0.44 1.   0.94 0.   0.   0.   0.   0.   0.   0.\n",
            "  0.   0.   0.   0.   0.  ]\n",
            " [0.   0.   0.   0.   0.   0.   0.   0.   0.   0.   0.   0.   0.   0.33 1.   0.96 0.12 0.   0.   0.   0.   0.   0.\n",
            "  0.   0.   0.   0.   0.  ]\n",
            " [0.   0.   0.   0.   0.   0.   0.   0.   0.   0.   0.   0.   0.   0.31 1.   0.96 0.15 0.   0.   0.   0.   0.   0.\n",
            "  0.   0.   0.   0.   0.  ]\n",
            " [0.   0.   0.   0.   0.   0.   0.   0.   0.   0.   0.   0.   0.   0.   0.84 1.   0.59 0.   0.   0.   0.   0.   0.\n",
            "  0.   0.   0.   0.   0.  ]\n",
            " [0.   0.   0.   0.   0.   0.   0.   0.   0.   0.   0.   0.   0.   0.   0.56 0.95 0.03 0.   0.   0.   0.   0.   0.\n",
            "  0.   0.   0.   0.   0.  ]\n",
            " [0.   0.   0.   0.   0.   0.   0.   0.   0.   0.   0.   0.   0.   0.   0.56 0.94 0.01 0.   0.   0.   0.   0.   0.\n",
            "  0.   0.   0.   0.   0.  ]\n",
            " [0.   0.   0.   0.   0.   0.   0.   0.   0.   0.   0.   0.   0.   0.   0.56 1.   0.32 0.   0.   0.   0.   0.   0.\n",
            "  0.   0.   0.   0.   0.  ]\n",
            " [0.   0.   0.   0.   0.   0.   0.   0.   0.   0.   0.   0.   0.   0.   0.9  0.97 0.16 0.   0.   0.   0.   0.   0.\n",
            "  0.   0.   0.   0.   0.  ]\n",
            " [0.   0.   0.   0.   0.   0.   0.   0.   0.   0.   0.   0.   0.   0.   0.66 0.82 0.12 0.   0.   0.   0.   0.   0.\n",
            "  0.   0.   0.   0.   0.  ]\n",
            " [0.   0.   0.   0.   0.   0.   0.   0.   0.   0.   0.   0.   0.   0.   0.   0.   0.   0.   0.   0.   0.   0.   0.\n",
            "  0.   0.   0.   0.   0.  ]\n",
            " [0.   0.   0.   0.   0.   0.   0.   0.   0.   0.   0.   0.   0.   0.   0.   0.   0.   0.   0.   0.   0.   0.   0.\n",
            "  0.   0.   0.   0.   0.  ]\n",
            " [0.   0.   0.   0.   0.   0.   0.   0.   0.   0.   0.   0.   0.   0.   0.   0.   0.   0.   0.   0.   0.   0.   0.\n",
            "  0.   0.   0.   0.   0.  ]]\n"
          ]
        }
      ]
    },
    {
      "cell_type": "code",
      "metadata": {
        "id": "zLI4TcYXmU_F",
        "colab": {
          "base_uri": "https://localhost:8080/"
        },
        "outputId": "925778f5-9e7e-4307-ab90-8abc6507249e"
      },
      "source": [
        "'''\n",
        "W1 assignment\n",
        "\n",
        "Since it is a densely connected network the input should be flattened\n",
        "in order to feed the input layer.\n",
        "\n",
        "Now, instead of having an array of (60000, 28, 28) we will end with an array\n",
        "of (60000, 784), where 784 corresponds to the multiplication of both dimensions,\n",
        "that is, 28x28. \n",
        "'''\n",
        "x_train = x_train.reshape(60000, 784)\n",
        "x_test = x_test.reshape(10000, 784)\n",
        "\n",
        "\n",
        "print(x_train.shape)\n",
        "print(x_test.shape)"
      ],
      "execution_count": null,
      "outputs": [
        {
          "output_type": "stream",
          "name": "stdout",
          "text": [
            "(60000, 784)\n",
            "(10000, 784)\n"
          ]
        }
      ]
    },
    {
      "cell_type": "code",
      "metadata": {
        "id": "quF-3BQNmU_H",
        "colab": {
          "base_uri": "https://localhost:8080/"
        },
        "outputId": "a41cf1fb-147a-4abd-cd2b-fb47bb1e78a0"
      },
      "source": [
        "'''\n",
        "W1 assignment\n",
        "\n",
        "Exploring our labels dataset we can check that they are represented by ordinal\n",
        "numbers.\n",
        "\n",
        "For categorical variables where no such ordinal relationship exists, the integer\n",
        "encoding is not enough.\n",
        "\n",
        "In fact, using this encoding and allowing the model to assume a natural ordering\n",
        "between categories may result in poor performance or unexpected results \n",
        "(predictions halfway between categories).\n",
        "\n",
        "That't why we will apply one-hot encoding to our labels datasets.\n",
        "\n",
        "First, we print a couple of label samples to check their format.\n",
        "'''\n",
        "print(y_test[0])"
      ],
      "execution_count": null,
      "outputs": [
        {
          "output_type": "stream",
          "name": "stdout",
          "text": [
            "7\n"
          ]
        }
      ]
    },
    {
      "cell_type": "code",
      "metadata": {
        "id": "wTX3pTjjmU_H",
        "colab": {
          "base_uri": "https://localhost:8080/"
        },
        "outputId": "9a1eb893-b992-4628-8241-7188ad701686"
      },
      "source": [
        "print(y_train[0])"
      ],
      "execution_count": null,
      "outputs": [
        {
          "output_type": "stream",
          "name": "stdout",
          "text": [
            "5\n"
          ]
        }
      ]
    },
    {
      "cell_type": "code",
      "metadata": {
        "id": "UKxID7jHmU_I",
        "colab": {
          "base_uri": "https://localhost:8080/"
        },
        "outputId": "decca411-5a3d-4eca-aeed-b5f6b4d02a35"
      },
      "source": [
        "print(y_train.shape)"
      ],
      "execution_count": null,
      "outputs": [
        {
          "output_type": "stream",
          "name": "stdout",
          "text": [
            "(60000,)\n"
          ]
        }
      ]
    },
    {
      "cell_type": "code",
      "metadata": {
        "id": "PfMz631nmU_I",
        "colab": {
          "base_uri": "https://localhost:8080/"
        },
        "outputId": "bf3479de-269f-41e3-ec38-59b12b007df1"
      },
      "source": [
        "print(x_test.shape)"
      ],
      "execution_count": null,
      "outputs": [
        {
          "output_type": "stream",
          "name": "stdout",
          "text": [
            "(10000, 784)\n"
          ]
        }
      ]
    },
    {
      "cell_type": "code",
      "metadata": {
        "id": "JA1WbfT9mU_I"
      },
      "source": [
        "'''\n",
        "W1 assignment\n",
        "\n",
        "Using the keras.utils function we apply one-hot encoding \n",
        "to our labels datasets.\n",
        "'''\n",
        "from tensorflow.keras.utils import to_categorical\n",
        "\n",
        "y_train = to_categorical(y_train, num_classes=10)\n",
        "y_test = to_categorical(y_test, num_classes=10)"
      ],
      "execution_count": null,
      "outputs": []
    },
    {
      "cell_type": "code",
      "metadata": {
        "id": "FsiOxyH1mU_I",
        "colab": {
          "base_uri": "https://localhost:8080/"
        },
        "outputId": "3c5e22fc-1706-4595-dd8a-4b00e6b32a86"
      },
      "source": [
        "'''\n",
        "W1 assignment\n",
        "\n",
        "Now we can check with a couple of samples that our labels \n",
        "have been one-hot encoded.\n",
        "'''\n",
        "print(y_test[0])"
      ],
      "execution_count": null,
      "outputs": [
        {
          "output_type": "stream",
          "name": "stdout",
          "text": [
            "[0. 0. 0. 0. 0. 0. 0. 1. 0. 0.]\n"
          ]
        }
      ]
    },
    {
      "cell_type": "code",
      "metadata": {
        "id": "RNK5YW5lmU_J",
        "colab": {
          "base_uri": "https://localhost:8080/"
        },
        "outputId": "b6aeb216-c7c5-47c0-f8cc-39c424c2cccb"
      },
      "source": [
        "print(y_train[0])"
      ],
      "execution_count": null,
      "outputs": [
        {
          "output_type": "stream",
          "name": "stdout",
          "text": [
            "[0. 0. 0. 0. 0. 1. 0. 0. 0. 0.]\n"
          ]
        }
      ]
    },
    {
      "cell_type": "code",
      "metadata": {
        "id": "2NAwgJNMmU_J",
        "colab": {
          "base_uri": "https://localhost:8080/"
        },
        "outputId": "c9c2a7a9-b726-45a2-e8a8-59d5632f8b06"
      },
      "source": [
        "print(y_train.shape)"
      ],
      "execution_count": null,
      "outputs": [
        {
          "output_type": "stream",
          "name": "stdout",
          "text": [
            "(60000, 10)\n"
          ]
        }
      ]
    },
    {
      "cell_type": "code",
      "metadata": {
        "id": "in-7Z4AvmU_K",
        "colab": {
          "base_uri": "https://localhost:8080/"
        },
        "outputId": "018e7135-79a4-4872-c452-45a5f9596478"
      },
      "source": [
        "print(y_test.shape)"
      ],
      "execution_count": null,
      "outputs": [
        {
          "output_type": "stream",
          "name": "stdout",
          "text": [
            "(10000, 10)\n"
          ]
        }
      ]
    },
    {
      "cell_type": "markdown",
      "metadata": {
        "id": "3OvqtjtLmU_K"
      },
      "source": [
        "Model"
      ]
    },
    {
      "cell_type": "code",
      "metadata": {
        "id": "V18irCwimU_K",
        "colab": {
          "base_uri": "https://localhost:8080/"
        },
        "outputId": "911c5ba2-2bc9-4c04-f7a9-03ed3923a0de"
      },
      "source": [
        "'''\n",
        "W1 assignment\n",
        "\n",
        "Now it's time to define our model.\n",
        "\n",
        "After importing all the submodules we will need (sequential, Dense and sgd)\n",
        "we define our model.\n",
        "\n",
        "It consists of:\n",
        "  * an input layer of 10 neurons. Each neuron receives 784 inputs corresponding\n",
        "  to every sample and has a 'sigmoid' activation function at their output.\n",
        "  * an output layer of 10 neurons. Since it is a classification problem using\n",
        "  'softmax' as its activation function is convenient.\n",
        "\n",
        "Finally, we print the summary of our model to have a better understanding of its\n",
        "architecture.\n",
        "\n",
        "The number of parameters of our model is composed of the following:\n",
        "  * Input layer: 780 features * 10 neurons + 1 bias * 10 = 7850\n",
        "  * Output layer: 10 outputs from input layer * 10 neurons + 1 bias * 10 = 110\n",
        "\n",
        "This results in 7850 + 110 = 7960 parameters.\n",
        "'''\n",
        "from tensorflow.keras.models import Sequential\n",
        "from tensorflow.keras.layers import Dense\n",
        "from tensorflow.keras.optimizers import SGD\n",
        "\n",
        "model = Sequential()\n",
        "model.add(Dense(10, activation='sigmoid', input_shape=(784,)))\n",
        "model.add(Dense(10, activation='softmax'))\n",
        "\n",
        "model.summary()"
      ],
      "execution_count": null,
      "outputs": [
        {
          "output_type": "stream",
          "name": "stdout",
          "text": [
            "Model: \"sequential\"\n",
            "_________________________________________________________________\n",
            "Layer (type)                 Output Shape              Param #   \n",
            "=================================================================\n",
            "dense (Dense)                (None, 10)                7850      \n",
            "_________________________________________________________________\n",
            "dense_1 (Dense)              (None, 10)                110       \n",
            "=================================================================\n",
            "Total params: 7,960\n",
            "Trainable params: 7,960\n",
            "Non-trainable params: 0\n",
            "_________________________________________________________________\n"
          ]
        }
      ]
    },
    {
      "cell_type": "markdown",
      "metadata": {
        "id": "ydpkKBj3mU_K"
      },
      "source": [
        "\n",
        "Definition, training and evaluation\n"
      ]
    },
    {
      "cell_type": "code",
      "metadata": {
        "id": "EX2MwSmMmU_L",
        "colab": {
          "base_uri": "https://localhost:8080/"
        },
        "outputId": "f387fedf-3d9a-46a9-8f63-ba06b9f8b7fe"
      },
      "source": [
        "'''\n",
        "W1 assignment\n",
        "\n",
        "Now that we've defined our model it's time to compile and fit it to our dataset.\n",
        "We have also to define our hyperparameters such as:\n",
        "  * batch size\n",
        "  * number of epochs\n",
        "  * loss function\n",
        "  * optimizing function\n",
        "\n",
        "In our case we compile our model with the following hyper-parameters:\n",
        "  * loss function: categorical_crossentropy. This is the function used in Keras \n",
        "  for multiclassification problems.\n",
        "  * optimizer: sgd. Stochastic Gradient Descent is the most common and \n",
        "  famous optimizer.\n",
        "  * metrics: accuracy. We want to know how well our model performs in terms of \n",
        "  accuracy when classifying our samples, in contrast with regression problems,\n",
        "  where we want to know the amount of error obtained.\n",
        "\n",
        "After compiling, we proceed to fit our model by indicating both the features and\n",
        "labels sets and also the number of epochs (10) and the batch size (50).\n",
        "\n",
        "Once fitted, we evaluate our output model using the features and labels sets.\n",
        "\n",
        "Finally, we obtain a test accuracy of 0.86 (86%), which is pretty good.\n",
        "'''\n",
        "batch_size = 50\n",
        "num_classes = 10\n",
        "epochs=10\n",
        "\n",
        "model.compile(loss='categorical_crossentropy',\n",
        "              optimizer='sgd',\n",
        "              metrics=['accuracy'])\n",
        "\n",
        "model.fit(x_train, y_train,\n",
        "          batch_size=batch_size,\n",
        "          epochs=epochs,\n",
        "          verbose=1\n",
        "          )\n",
        "\n",
        "test_loss, test_acc = model.evaluate(x_test, y_test)\n",
        "\n",
        "print('Test loss:', test_loss)\n",
        "print('Test accuracy:', test_acc)"
      ],
      "execution_count": null,
      "outputs": [
        {
          "output_type": "stream",
          "name": "stdout",
          "text": [
            "Epoch 1/10\n",
            "1200/1200 [==============================] - 2s 1ms/step - loss: 2.0711 - accuracy: 0.3818\n",
            "Epoch 2/10\n",
            "1200/1200 [==============================] - 2s 1ms/step - loss: 1.6549 - accuracy: 0.6016\n",
            "Epoch 3/10\n",
            "1200/1200 [==============================] - 2s 1ms/step - loss: 1.3465 - accuracy: 0.6809\n",
            "Epoch 4/10\n",
            "1200/1200 [==============================] - 2s 1ms/step - loss: 1.1261 - accuracy: 0.7319\n",
            "Epoch 5/10\n",
            "1200/1200 [==============================] - 2s 1ms/step - loss: 0.9697 - accuracy: 0.7689\n",
            "Epoch 6/10\n",
            "1200/1200 [==============================] - 2s 1ms/step - loss: 0.8568 - accuracy: 0.7970\n",
            "Epoch 7/10\n",
            "1200/1200 [==============================] - 2s 1ms/step - loss: 0.7723 - accuracy: 0.8183\n",
            "Epoch 8/10\n",
            "1200/1200 [==============================] - 2s 1ms/step - loss: 0.7063 - accuracy: 0.8351\n",
            "Epoch 9/10\n",
            "1200/1200 [==============================] - 2s 1ms/step - loss: 0.6533 - accuracy: 0.8473\n",
            "Epoch 10/10\n",
            "1200/1200 [==============================] - 2s 1ms/step - loss: 0.6100 - accuracy: 0.8562\n",
            "313/313 [==============================] - 1s 1ms/step - loss: 0.5749 - accuracy: 0.8658\n",
            "Test loss: 0.5748787522315979\n",
            "Test accuracy: 0.8658000230789185\n"
          ]
        }
      ]
    },
    {
      "cell_type": "markdown",
      "metadata": {
        "id": "nEREP1f3mU_L"
      },
      "source": [
        "Predictions"
      ]
    },
    {
      "cell_type": "code",
      "metadata": {
        "id": "kncGw77hmU_L"
      },
      "source": [
        "'''\n",
        "W1 assignment\n",
        "\n",
        "Now, using our testing set, we are going to predict the output labels for it.\n",
        "\n",
        "We use the Keras' predict function for this purpose. As stated in the official\n",
        "documentation of Tensorflow/Keras \n",
        "(https://www.tensorflow.org/api_docs/python/tf/keras/Model#predict),\n",
        "the 'predict' function returns a Numpy array(s) of predictions. \n",
        "'''\n",
        "predictions = model.predict(x_test)"
      ],
      "execution_count": null,
      "outputs": []
    },
    {
      "cell_type": "code",
      "metadata": {
        "id": "p0KsDZmBmU_L",
        "colab": {
          "base_uri": "https://localhost:8080/"
        },
        "outputId": "350738fa-8495-4327-c2ff-6d2a176a6f97"
      },
      "source": [
        "'''\n",
        "W1 assignment\n",
        "\n",
        "Now we explore one of the predictions contained in our Numpy array. It will\n",
        "gives us a set of 10 probabilities.\n",
        "\n",
        "Adding all these values should all add up to one, which is our case.\n",
        "'''\n",
        "print(predictions[11])"
      ],
      "execution_count": null,
      "outputs": [
        {
          "output_type": "stream",
          "name": "stdout",
          "text": [
            "[0.08 0.03 0.12 0.01 0.07 0.02 0.61 0.   0.03 0.02]\n"
          ]
        }
      ]
    },
    {
      "cell_type": "code",
      "metadata": {
        "id": "5Z04JunImU_M",
        "colab": {
          "base_uri": "https://localhost:8080/"
        },
        "outputId": "759c6d83-2adc-4b8e-9619-2c62d45668be"
      },
      "source": [
        "numpy.sum(predictions[11])"
      ],
      "execution_count": null,
      "outputs": [
        {
          "output_type": "execute_result",
          "data": {
            "text/plain": [
              "1.0000001"
            ]
          },
          "metadata": {},
          "execution_count": 38
        }
      ]
    },
    {
      "cell_type": "code",
      "metadata": {
        "id": "Bl-KdgCKmU_M",
        "colab": {
          "base_uri": "https://localhost:8080/"
        },
        "outputId": "ccbac051-e1ea-428c-b400-74c9121bdcdd"
      },
      "source": [
        "'''\n",
        "W1 assignment\n",
        "\n",
        "In order to check the label predicted we use the 'argmax' function, \n",
        "which returns the position of the predictions array with the highest value.\n",
        "\n",
        "In this case, since the array indices corresponds to the labels we are trying\n",
        "to predict, we can say that the label predicted corresponds to the number '6'.\n",
        "'''\n",
        "numpy.argmax(predictions[11])"
      ],
      "execution_count": null,
      "outputs": [
        {
          "output_type": "execute_result",
          "data": {
            "text/plain": [
              "6"
            ]
          },
          "metadata": {},
          "execution_count": 40
        }
      ]
    },
    {
      "cell_type": "code",
      "metadata": {
        "id": "yw2FZyCsmU_M"
      },
      "source": [
        "'''\n",
        "W1 assignment\n",
        "\n",
        "In this cell we define a function ('plot_confusion_matrix') that, using Pyplot\n",
        "and Numpy, draws a confusion matrix that will help us to check how accurate\n",
        "our model is when it comes to predict the correct value for our samples.\n",
        "'''\n",
        "# Look at confusion matrix \n",
        "# Note, this code is taken straight from the SKLEARN website, an nice way of \n",
        "# viewing confusion matrix.\n",
        "def plot_confusion_matrix(cm, classes,\n",
        "                          normalize=False,\n",
        "                          title='Confusion matrix',\n",
        "                          cmap=plt.cm.Blues):\n",
        "    \"\"\"\n",
        "    This function prints and plots the confusion matrix.\n",
        "    Normalization can be applied by setting `normalize=True`.\n",
        "    \"\"\"\n",
        "    plt.imshow(cm, interpolation='nearest', cmap=cmap)\n",
        "    plt.title(title)\n",
        "    plt.colorbar()\n",
        "    tick_marks = numpy.arange(len(classes))\n",
        "    plt.xticks(tick_marks, classes, rotation=45)\n",
        "    plt.yticks(tick_marks, classes)\n",
        "\n",
        "    if normalize:\n",
        "        cm = cm.astype('float') / cm.sum(axis=1)[:, np.newaxis]\n",
        "\n",
        "    thresh = cm.max() / 2.\n",
        "    for i, j in itertools.product(range(cm.shape[0]), range(cm.shape[1])):\n",
        "        plt.text(j, i, cm[i, j],\n",
        "                 horizontalalignment=\"center\",\n",
        "                 color=\"white\" if cm[i, j] > thresh else \"black\")\n",
        "\n",
        "    plt.tight_layout()\n",
        "    plt.ylabel('Actual class')\n",
        "    plt.xlabel('Predicted class')\n",
        "\n"
      ],
      "execution_count": null,
      "outputs": []
    },
    {
      "cell_type": "code",
      "metadata": {
        "id": "PGaO4CjNmU_N",
        "colab": {
          "base_uri": "https://localhost:8080/",
          "height": 311
        },
        "outputId": "721e38e3-8ca0-4ecb-f6f0-8b3e03dd9770"
      },
      "source": [
        "'''\n",
        "W1 assignment\n",
        "\n",
        "Finally, in order to draw our confussion matrix, we prepare both the true labels\n",
        "(y_test) and the predicted ones (Y_pred) to reverse the one-hot encoding process\n",
        "so we can pass this as parameters for the 'sklearn.metrics.confusion_matrix' \n",
        "function.\n",
        "\n",
        "According to the official 'Sci-kit learn' documentation\n",
        "(https://scikit-learn.org/stable/modules/generated/sklearn.metrics.confusion_matrix.html)\n",
        "the 'confusion_matrix' function returns a ndarray \n",
        "of shape (n_classes, n_classes). This is the array we pass to our custom\n",
        "function 'plot_confusion_matrix'.\n",
        "\n",
        "As depicted in the resulting confusion matrix, the main diagonal contains high\n",
        "values in proportion to the rest of the matrix. It is also noticiable by the\n",
        "color depicted, which tends to be dark blue in such diagonal. This indicates\n",
        "that our prediction is pretty good. \n",
        "'''\n",
        "\n",
        "from collections import Counter\n",
        "from sklearn.metrics import confusion_matrix\n",
        "import itertools\n",
        "\n",
        "# Predict the values from the validation dataset\n",
        "Y_pred = model.predict(x_test)\n",
        "# Convert predictions classes to one hot vectors \n",
        "Y_pred_classes = numpy.argmax(Y_pred, axis = 1) \n",
        "# Convert validation observations to one hot vectors\n",
        "Y_true = numpy.argmax(y_test, axis = 1) \n",
        "# compute the confusion matrix\n",
        "confusion_mtx = confusion_matrix(Y_true, Y_pred_classes) \n",
        "# plot the confusion matrix\n",
        "plot_confusion_matrix(confusion_mtx, classes = range(10))"
      ],
      "execution_count": null,
      "outputs": [
        {
          "output_type": "display_data",
          "data": {
            "image/png": "[encoded data removed]",
            "text/plain": [
              "<Figure size 432x288 with 2 Axes>"
            ]
          },
          "metadata": {
            "needs_background": "light"
          }
        }
      ]
    }
  ]
}